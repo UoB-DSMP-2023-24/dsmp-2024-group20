{
 "cells": [
  {
   "cell_type": "code",
   "execution_count": 1,
   "id": "d9ddfaea",
   "metadata": {},
   "outputs": [],
   "source": [
    "import pandas"
   ]
  },
  {
   "cell_type": "code",
   "execution_count": null,
   "id": "4a995eff",
   "metadata": {},
   "outputs": [],
   "source": [
    "# test"
   ]
  },
  {
   "cell_type": "code",
   "execution_count": null,
   "id": "973a90b3",
   "metadata": {},
   "outputs": [],
   "source": [
    "# fxwtest"
   ]
  },
  {
   "cell_type": "code",
   "execution_count": null,
   "id": "21c4b371",
   "metadata": {},
   "outputs": [],
   "source": [
    "# ioahqbjd[plvc dijokqedw,m.c']"
   ]
  }
 ],
 "metadata": {
  "kernelspec": {
   "display_name": "Python 3 (ipykernel)",
   "language": "python",
   "name": "python3"
  },
  "language_info": {
   "codemirror_mode": {
    "name": "ipython",
    "version": 3
   },
   "file_extension": ".py",
   "mimetype": "text/x-python",
   "name": "python",
   "nbconvert_exporter": "python",
   "pygments_lexer": "ipython3",
   "version": "3.11.5"
<<<<<<< HEAD
=======
  },
  "toc": {
   "base_numbering": 1,
   "nav_menu": {},
   "number_sections": true,
   "sideBar": true,
   "skip_h1_title": false,
   "title_cell": "Table of Contents",
   "title_sidebar": "Contents",
   "toc_cell": false,
   "toc_position": {},
   "toc_section_display": true,
   "toc_window_display": false
>>>>>>> 9a6b19c0588f70a4273a1e0ed1196d286477db04
  }
 },
 "nbformat": 4,
 "nbformat_minor": 5
}
