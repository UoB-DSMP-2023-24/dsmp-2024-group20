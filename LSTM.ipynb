{
 "cells": [
  {
   "metadata": {
    "ExecuteTime": {
     "end_time": "2024-04-30T17:53:30.172697Z",
     "start_time": "2024-04-30T17:53:30.169024Z"
    }
   },
   "cell_type": "code",
   "source": [
    "import pandas as pd\n",
    "import matplotlib.pyplot as plt\n",
    "import torch\n",
    "import torch.nn as nn\n",
    "import numpy as np\n",
    "from sklearn.metrics import confusion_matrix, precision_score, recall_score, f1_score\n",
    "from sklearn.preprocessing import StandardScaler, LabelEncoder\n",
    "from torch.utils.data import TensorDataset, DataLoader\n",
    "from sklearn.metrics import classification_report\n",
    "import torch.nn.functional as F\n",
    "import shap\n"
   ],
   "id": "c7c880bd60f8629f",
   "outputs": [],
   "execution_count": 3
  },
  {
   "metadata": {
    "ExecuteTime": {
     "end_time": "2024-04-30T17:46:14.862664Z",
     "start_time": "2024-04-30T17:46:14.560809Z"
    }
   },
   "cell_type": "code",
   "source": [
    "import torch\n",
    "import torch.nn as nn\n",
    "from torchviz import make_dot\n",
    "\n",
    "# 定义注意力层（需要您提供这个类的实现或者类似的替代）\n",
    "class Attention(nn.Module):\n",
    "    def __init__(self, hidden_dim):\n",
    "        super(Attention, self).__init__()\n",
    "        self.fc = nn.Linear(hidden_dim, 1)\n",
    "\n",
    "    def forward(self, x):\n",
    "        # 这里简化了注意力机制的实现\n",
    "        weights = torch.softmax(self.fc(x), dim=1)\n",
    "        out = (x * weights).sum(1)\n",
    "        return out, weights\n",
    "\n",
    "# 模型类\n",
    "class LSTMModel(nn.Module):\n",
    "    def __init__(self, input_dim, hidden_dim, num_layers, output_dim, dropout_prob):\n",
    "        super(LSTMModel, self).__init__()\n",
    "        self.lstm = nn.LSTM(input_dim, hidden_dim, num_layers, batch_first=True)\n",
    "        self.dropout = nn.Dropout(dropout_prob)\n",
    "        self.attention = Attention(hidden_dim)\n",
    "        self.fc = nn.Linear(hidden_dim, output_dim)\n",
    "\n",
    "    def forward(self, x):\n",
    "        lstm_out, (hn, cn) = self.lstm(x)\n",
    "        lstm_out = self.dropout(lstm_out)\n",
    "        attn_out, attn_weights = self.attention(lstm_out)\n",
    "        out = self.fc(attn_out)\n",
    "        return out, attn_weights\n",
    "\n",
    "# 实例化模型和输入\n",
    "model = LSTMModel(input_dim=10, hidden_dim=50, num_layers=2, output_dim=5, dropout_prob=0.5)\n",
    "x = torch.randn(1, 100, 10)  # 示例输入\n",
    "\n",
    "# 通过模型传递输入以获取输出（仅用于生成计算图）\n",
    "y, attn_weights = model(x)\n",
    "\n",
    "# 生成并保存图\n",
    "dot = make_dot(y, params=dict(list(model.named_parameters()) + [('x', x)]))\n",
    "dot.render('model_graph', format='png')"
   ],
   "id": "fb36100a497e9ea4",
   "outputs": [
    {
     "ename": "NameError",
     "evalue": "name '_C' is not defined",
     "output_type": "error",
     "traceback": [
      "\u001B[1;31m---------------------------------------------------------------------------\u001B[0m",
      "\u001B[1;31mNameError\u001B[0m                                 Traceback (most recent call last)",
      "Cell \u001B[1;32mIn[6], line 1\u001B[0m\n\u001B[1;32m----> 1\u001B[0m \u001B[38;5;28;01mimport\u001B[39;00m \u001B[38;5;21;01mtorch\u001B[39;00m\n\u001B[0;32m      2\u001B[0m \u001B[38;5;28;01mimport\u001B[39;00m \u001B[38;5;21;01mtorch\u001B[39;00m\u001B[38;5;21;01m.\u001B[39;00m\u001B[38;5;21;01mnn\u001B[39;00m \u001B[38;5;28;01mas\u001B[39;00m \u001B[38;5;21;01mnn\u001B[39;00m\n\u001B[0;32m      3\u001B[0m \u001B[38;5;28;01mfrom\u001B[39;00m \u001B[38;5;21;01mtorchviz\u001B[39;00m \u001B[38;5;28;01mimport\u001B[39;00m make_dot\n",
      "File \u001B[1;32m~\\.conda\\envs\\miniproject\\Lib\\site-packages\\torch\\__init__.py:533\u001B[0m\n\u001B[0;32m    519\u001B[0m         \u001B[38;5;28;01mraise\u001B[39;00m \u001B[38;5;167;01mImportError\u001B[39;00m(textwrap\u001B[38;5;241m.\u001B[39mdedent(\u001B[38;5;124m'''\u001B[39m\n\u001B[0;32m    520\u001B[0m \u001B[38;5;124m            Failed to load PyTorch C extensions:\u001B[39m\n\u001B[0;32m    521\u001B[0m \u001B[38;5;124m                It appears that PyTorch has loaded the `torch/_C` folder\u001B[39m\n\u001B[1;32m   (...)\u001B[0m\n\u001B[0;32m    529\u001B[0m \u001B[38;5;124m                or by running Python from a different directory.\u001B[39m\n\u001B[0;32m    530\u001B[0m \u001B[38;5;124m            \u001B[39m\u001B[38;5;124m'''\u001B[39m)\u001B[38;5;241m.\u001B[39mstrip()) \u001B[38;5;28;01mfrom\u001B[39;00m \u001B[38;5;28;01mNone\u001B[39;00m\n\u001B[0;32m    531\u001B[0m     \u001B[38;5;28;01mraise\u001B[39;00m  \u001B[38;5;66;03m# If __file__ is not None the cause is unknown, so just re-raise.\u001B[39;00m\n\u001B[1;32m--> 533\u001B[0m \u001B[38;5;28;01mfor\u001B[39;00m name \u001B[38;5;129;01min\u001B[39;00m \u001B[38;5;28mdir\u001B[39m(_C):\n\u001B[0;32m    534\u001B[0m     \u001B[38;5;28;01mif\u001B[39;00m name[\u001B[38;5;241m0\u001B[39m] \u001B[38;5;241m!=\u001B[39m \u001B[38;5;124m'\u001B[39m\u001B[38;5;124m_\u001B[39m\u001B[38;5;124m'\u001B[39m \u001B[38;5;129;01mand\u001B[39;00m \u001B[38;5;129;01mnot\u001B[39;00m name\u001B[38;5;241m.\u001B[39mendswith(\u001B[38;5;124m'\u001B[39m\u001B[38;5;124mBase\u001B[39m\u001B[38;5;124m'\u001B[39m):\n\u001B[0;32m    535\u001B[0m         __all__\u001B[38;5;241m.\u001B[39mappend(name)\n",
      "\u001B[1;31mNameError\u001B[0m: name '_C' is not defined"
     ]
    }
   ],
   "execution_count": 6
  },
  {
   "metadata": {
    "ExecuteTime": {
     "end_time": "2024-04-30T17:41:28.968913Z",
     "start_time": "2024-04-30T17:41:28.963812Z"
    }
   },
   "cell_type": "code",
   "source": [
    "class Attention(nn.Module):\n",
    "    def __init__(self, hidden_dim):\n",
    "        super(Attention, self).__init__()\n",
    "        self.hidden_dim = hidden_dim\n",
    "        self.linear = nn.Linear(hidden_dim, 1)\n",
    "\n",
    "    def forward(self, lstm_output):\n",
    "        # lstm_output: [batch_size, seq_length, hidden_dim]\n",
    "        attention_scores = self.linear(lstm_output)  # [batch_size, seq_length, 1]\n",
    "        attention_weights = F.softmax(attention_scores, dim=1)  # 对每个序列进行softmax\n",
    "        context_vector = attention_weights * lstm_output  # [batch_size, seq_length, hidden_dim]\n",
    "        context_vector = torch.sum(context_vector, dim=1)  # [batch_size, hidden_dim]\n",
    "        return context_vector, attention_weights\n",
    "    \n",
    "class LSTMModel(nn.Module):\n",
    "    def __init__(self, input_dim, hidden_dim, num_layers, output_dim,dropout_prob):\n",
    "        super(LSTMModel, self).__init__()\n",
    "        self.lstm = nn.LSTM(input_dim, hidden_dim, num_layers, batch_first=True)\n",
    "        self.dropout = nn.Dropout(dropout_prob)\n",
    "        self.attention = Attention(hidden_dim)\n",
    "        self.fc = nn.Linear(hidden_dim, output_dim)  # 输出层直接连接到分类数量\n",
    "\n",
    "    def forward(self, x):\n",
    "        lstm_out, (hn, cn) = self.lstm(x)  # [batch_size, seq_length, hidden_dim]\n",
    "        lstm_out = self.dropout(lstm_out)\n",
    "\n",
    "        # 注意力层\n",
    "        attn_out, attn_weights = self.attention(lstm_out)  # 使用注意力层\n",
    "\n",
    "        # 全连接层\n",
    "        out = self.fc(attn_out)  # [batch_size, output_dim]\n",
    "        return out, attn_weights  # 返回输出和注意力权重"
   ],
   "id": "1a4d389ed5a89841",
   "outputs": [],
   "execution_count": 8
  },
  {
   "metadata": {
    "ExecuteTime": {
     "end_time": "2024-04-30T17:41:29.742022Z",
     "start_time": "2024-04-30T17:41:29.735492Z"
    }
   },
   "cell_type": "code",
   "source": [
    "def create_sequences(input_data, target_data, sequence_length):\n",
    "    sequences = []\n",
    "    target_sequences = []\n",
    "    for i in range(len(input_data) - sequence_length):\n",
    "        sequences.append(input_data[i:i+sequence_length])\n",
    "        target_sequences.append(target_data[i+sequence_length])\n",
    "    return np.array(sequences), np.array(target_sequences)\n",
    "\n",
    "def train_model(model, train_loader, val_loader, criterion, optimizer, num_epochs,device):\n",
    "    best_accuracy = 0.0  # 初始化最佳准确率\n",
    "    best_model = None  # 初始化最佳模型权重\n",
    "    best_epoch = 0  # 初始化最佳模型的训练轮次\n",
    "\n",
    "    for epoch in range(num_epochs):\n",
    "        model.train()  # 设置模型为训练模式\n",
    "        train_loss = 0.0\n",
    "\n",
    "        for X_batch, y_batch in train_loader:\n",
    "            optimizer.zero_grad()\n",
    "            X_batch, y_batch = X_batch.to(device), y_batch.to(device)\n",
    "            # 由于模型修改为返回一个元组，我们这里仅使用输出\n",
    "            y_pred, _ = model(X_batch)  # 获取模型的输出和注意力权重\n",
    "            loss = criterion(y_pred, y_batch)\n",
    "            loss.backward()\n",
    "            optimizer.step()\n",
    "            train_loss += loss.item()\n",
    "\n",
    "        # 计算平均训练损失\n",
    "        train_loss /= len(train_loader)\n",
    "\n",
    "        # 进入评估模式\n",
    "        model.eval()\n",
    "        test_loss = 0.0\n",
    "        correct = 0\n",
    "        total = 0\n",
    "\n",
    "        with torch.no_grad():\n",
    "            for X_val_batch, y_val_batch in val_loader:\n",
    "                X_val_batch, y_val_batch = X_val_batch.to(device), y_val_batch.to(device)\n",
    "                y_val_pred, _ = model(X_val_batch)  # 同样，仅使用输出\n",
    "                test_loss += criterion(y_val_pred, y_val_batch).item()\n",
    "                _, predicted = torch.max(y_val_pred.data, 1)\n",
    "                total += y_val_batch.size(0)\n",
    "                correct += (predicted == y_val_batch).sum().item()\n",
    "\n",
    "        # 计算平均验证损失和准确率\n",
    "        test_loss /= len(val_loader)\n",
    "        test_accuracy = correct / total\n",
    "\n",
    "        # 更新最佳模型（如果适用）\n",
    "        if test_accuracy > best_accuracy:\n",
    "            best_epoch = epoch\n",
    "            best_accuracy = test_accuracy\n",
    "            best_model = model.state_dict()\n",
    "            torch.save(best_model, 'model/best_model_clean(k=20).pth')\n",
    "\n",
    "        print(f'Epoch {epoch + 1}/{num_epochs}, Train Loss: {train_loss:.4f}, '\n",
    "              f'Test Loss: {test_loss:.4f}, Test Accuracy: {test_accuracy:.4f}, '\n",
    "              f'Best Epoch: {best_epoch+1}')\n",
    "\n",
    "    model.load_state_dict(torch.load('model/best_model_clean(k=20).pth'))\n",
    "\n",
    "# 预测\n",
    "def predict(model, test_loader,device):\n",
    "    model.eval()\n",
    "    predictions = []\n",
    "    with torch.no_grad():\n",
    "        for X_batch, _ in test_loader:\n",
    "            X_batch = X_batch.to(device)\n",
    "            y_test_pred,_ = model(X_batch)\n",
    "            predictions.append(y_test_pred.cpu().numpy())\n",
    "    return np.concatenate(predictions, axis=0)"
   ],
   "id": "7bd2c24f1e62c1a4",
   "outputs": [],
   "execution_count": 9
  },
  {
   "metadata": {
    "ExecuteTime": {
     "end_time": "2024-04-30T17:41:30.234625Z",
     "start_time": "2024-04-30T17:41:30.230953Z"
    }
   },
   "cell_type": "code",
   "source": [
    "def mark_label(df,k,thresholds):\n",
    "    #0:stay,1:up，2:down\n",
    "    # df['m_minus'] = df['avg_price'].rolling(window=k).mean()\n",
    "    df['m_plus'] = df['avg_price'].shift(-1).rolling(window=k, min_periods=1).mean().shift(-k+1)\n",
    "    df['l_t'] = (df['m_plus'] - df['avg_price']) / df['avg_price']\n",
    "    df['label'] = 0\n",
    "    df.loc[df['l_t'] > thresholds, 'label'] = 1\n",
    "    df.loc[df['l_t'] < -thresholds, 'label'] = 2\n",
    "\n",
    "    return df"
   ],
   "id": "ab840a7448acb89e",
   "outputs": [],
   "execution_count": 10
  },
  {
   "metadata": {
    "ExecuteTime": {
     "end_time": "2024-04-30T17:41:38.698751Z",
     "start_time": "2024-04-30T17:41:30.933005Z"
    }
   },
   "cell_type": "code",
   "source": [
    "from pandas import Timedelta\n",
    "\n",
    "df = pd.read_csv('process_data/total_lob_1s_k10_0.1.csv')\n",
    "df.replace([np.inf, -np.inf], np.nan, inplace=True)\n",
    "df = df.dropna()\n",
    "df = mark_label(df,10,0.1)\n",
    "# df = df.iloc[:5000]\n",
    "df['date'] = pd.to_datetime(df['date'])\n",
    "\n",
    "# # 将time_window列（秒数）转换为timedelta类型\n",
    "# df['time_window'] = pd.to_timedelta(df['time_window'], unit='s')\n",
    "# \n",
    "# # 将日期和时间窗口相加，得到完整的datetime对象\n",
    "# df['datetime'] = df['date']  + df['time_window']+Timedelta(hours=8)\n",
    "\n",
    "df.set_index('time', inplace=True)\n",
    "df_index = df.index\n",
    "\n",
    "\n",
    "feature=df[['avg_price','avg_price_change', 'bid_level_diff', 'ask_level_diff',\n",
    "             'bid_ask_depth_diff','label']]\n",
    "\n",
    "target=df['label']"
   ],
   "id": "fb933abaf43c4a93",
   "outputs": [],
   "execution_count": 11
  },
  {
   "metadata": {
    "ExecuteTime": {
     "end_time": "2024-04-30T17:41:38.718768Z",
     "start_time": "2024-04-30T17:41:38.699766Z"
    }
   },
   "cell_type": "code",
   "source": [
    "label_distribution = df['label'].value_counts()\n",
    "\n",
    "print(label_distribution)\n"
   ],
   "id": "37c07d517d426f36",
   "outputs": [
    {
     "name": "stdout",
     "output_type": "stream",
     "text": [
      "label\n",
      "0    2366453\n",
      "1     852824\n",
      "2     604188\n",
      "Name: count, dtype: int64\n"
     ]
    }
   ],
   "execution_count": 12
  },
  {
   "metadata": {
    "ExecuteTime": {
     "end_time": "2024-04-30T17:41:43.269840Z",
     "start_time": "2024-04-30T17:41:38.718768Z"
    }
   },
   "cell_type": "code",
   "source": [
    "\n",
    "scaler = StandardScaler()\n",
    "\n",
    "# 对特征进行标准化\n",
    "scaled_features = scaler.fit_transform(feature)\n",
    "sequence_length = 10  # 可以根据需要调整这个值\n",
    "X, y = create_sequences(scaled_features, target.values, sequence_length)\n",
    "# 按顺序划分数据集\n",
    "train_size = int(len(X) * 0.8)\n",
    "X_train, X_test = X[:train_size], X[train_size:]\n",
    "y_train, y_test = y[:train_size], y[train_size:]\n",
    "\n",
    "# test_size = int(len(X_temp) * 0.2)\n",
    "# X_val, X_test = X_temp[:test_size], X_temp[test_size:]\n",
    "# y_val, y_test = y_temp[:test_size], y_temp[test_size:]\n",
    "\n",
    "# X_val_tensor = torch.tensor(X_val, dtype=torch.float32)\n",
    "# y_val_tensor = torch.tensor(y_val, dtype=torch.long)\n",
    "\n",
    "X_train_tensor = torch.tensor(X_train, dtype=torch.float)\n",
    "y_train_tensor = torch.tensor(y_train, dtype=torch.long)\n",
    "X_test_tensor = torch.tensor(X_test, dtype=torch.float)\n",
    "y_test_tensor = torch.tensor(y_test, dtype=torch.long)\n",
    "\n",
    "\n",
    "batch_size = 64\n",
    "\n",
    "train_data = TensorDataset(X_train_tensor, y_train_tensor)\n",
    "test_data = TensorDataset(X_test_tensor, y_test_tensor)\n",
    "# val_data = TensorDataset(X_val_tensor, y_val_tensor)\n",
    "\n",
    "train_loader = DataLoader(train_data, shuffle=True, batch_size=batch_size)\n",
    "test_loader = DataLoader(test_data, batch_size=batch_size)\n",
    "# val_loader = DataLoader(val_data, batch_size=64)\n",
    "\n"
   ],
   "id": "ea4ba67f5d4c5a0e",
   "outputs": [],
   "execution_count": 13
  },
  {
   "metadata": {
    "ExecuteTime": {
     "end_time": "2024-04-30T17:41:45.845542Z",
     "start_time": "2024-04-30T17:41:43.281395Z"
    }
   },
   "cell_type": "code",
   "source": [
    "input_dim = X_train.shape[2]\n",
    "hidden_dim = 50 # 隐藏层维度\n",
    "num_layers = 4 # LSTM层的数量\n",
    "output_dim =  3# 输出维度\n",
    "dropout_prob = 0.2\n",
    "\n",
    "model = LSTMModel(input_dim, hidden_dim, num_layers, output_dim,dropout_prob)\n",
    "# 定义损失函数和优化器\n",
    "criterion = nn.CrossEntropyLoss()  # 用于多分类问题\n",
    "optimizer = torch.optim.Adam(model.parameters(), lr=0.01)"
   ],
   "id": "1a907aa9f1e45501",
   "outputs": [],
   "execution_count": 14
  },
  {
   "metadata": {
    "ExecuteTime": {
     "end_time": "2024-04-27T21:01:51.177777Z",
     "start_time": "2024-04-27T21:01:51.164091Z"
    }
   },
   "cell_type": "code",
   "source": [
    "if torch.cuda.is_available():\n",
    "    device = torch.device(\"cuda\")  # CUDA设备对象\n",
    "    print(\"Using GPU\")\n",
    "else:\n",
    "    device = torch.device(\"cpu\")\n",
    "    print(\"Using CPU\")\n",
    "\n",
    "# 然后可以将模型和数据发送到选定的设备\n",
    "model.to(device)"
   ],
   "id": "ce4e0c6227436eac",
   "outputs": [
    {
     "name": "stdout",
     "output_type": "stream",
     "text": [
      "Using GPU\n"
     ]
    },
    {
     "data": {
      "text/plain": [
       "LSTMModel(\n",
       "  (lstm): LSTM(6, 50, num_layers=4, batch_first=True)\n",
       "  (dropout): Dropout(p=0.2, inplace=False)\n",
       "  (attention): Attention(\n",
       "    (linear): Linear(in_features=50, out_features=1, bias=True)\n",
       "  )\n",
       "  (fc): Linear(in_features=50, out_features=3, bias=True)\n",
       ")"
      ]
     },
     "execution_count": 191,
     "metadata": {},
     "output_type": "execute_result"
    }
   ],
   "execution_count": 191
  },
  {
   "metadata": {
    "ExecuteTime": {
     "end_time": "2024-04-27T20:54:10.183679Z",
     "start_time": "2024-04-27T20:41:06.701443Z"
    }
   },
   "cell_type": "code",
   "source": [
    "num_epochs = 5\n",
    "train_model(model, train_loader,test_loader,criterion, optimizer, num_epochs,device)"
   ],
   "id": "c4d050214a3f105c",
   "outputs": [
    {
     "name": "stdout",
     "output_type": "stream",
     "text": [
      "Epoch 1/5, Train Loss: 0.4850, Test Loss: 0.5999, Test Accuracy: 0.8026, Best Epoch: 1\n",
      "Epoch 2/5, Train Loss: 0.4586, Test Loss: 0.6586, Test Accuracy: 0.7739, Best Epoch: 1\n",
      "Epoch 3/5, Train Loss: 0.4648, Test Loss: 0.6257, Test Accuracy: 0.7991, Best Epoch: 1\n",
      "Epoch 4/5, Train Loss: 0.6002, Test Loss: 1.0647, Test Accuracy: 0.4311, Best Epoch: 1\n",
      "Epoch 5/5, Train Loss: 0.5757, Test Loss: 0.8482, Test Accuracy: 0.6300, Best Epoch: 1\n"
     ]
    }
   ],
   "execution_count": 178
  },
  {
   "metadata": {
    "ExecuteTime": {
     "end_time": "2024-04-27T21:02:00.760346Z",
     "start_time": "2024-04-27T21:02:00.753690Z"
    }
   },
   "cell_type": "code",
   "source": "model.load_state_dict(torch.load('model/best_model_clean(k=10).pth'))",
   "id": "2431e76ea58a59b5",
   "outputs": [
    {
     "data": {
      "text/plain": [
       "<All keys matched successfully>"
      ]
     },
     "execution_count": 192,
     "metadata": {},
     "output_type": "execute_result"
    }
   ],
   "execution_count": 192
  },
  {
   "metadata": {
    "ExecuteTime": {
     "end_time": "2024-04-27T21:02:12.076253Z",
     "start_time": "2024-04-27T21:02:01.977840Z"
    }
   },
   "cell_type": "code",
   "source": [
    "import matplotlib.pyplot as plt\n",
    "import seaborn as sns\n",
    "import numpy as np\n",
    "# 测试模型性能# 此函数应该返回模型在测试集上的预测\n",
    "#model.load_state_dict(torch.load('model/best_model(2).pth'))\n",
    "predictions = predict(model, test_loader,device)\n",
    "\n",
    "# 将输出的概率转换为类别索引\n",
    "_, predicted_classes = torch.max(torch.tensor(predictions), 1)\n",
    "\n",
    "\n",
    "# 计算准确率\n",
    "correct_predictions = (predicted_classes == y_test_tensor).sum().item()\n",
    "accuracy = correct_predictions / y_test_tensor.size(0)\n",
    "print(f'Accuracy: {accuracy:.4f}')\n",
    "\n",
    "cm = confusion_matrix(y_test_tensor, predicted_classes.numpy())\n",
    "plt.figure(figsize=(8, 6))\n",
    "\n",
    "sns.heatmap(cm, annot=True, fmt='d', cmap='Blues',xticklabels=['Stable', 'Up', 'Down'], yticklabels=['Stable', 'Up', 'Down'])\n",
    "plt.xlabel('Predicted labels')\n",
    "plt.ylabel('True labels')\n",
    "plt.title('Confusion Matrix(k=10)')\n",
    "plt.savefig('model/confusion_matrix(k=10).png')\n",
    "plt.show()\n"
   ],
   "id": "eb0f94cc9b28c015",
   "outputs": [
    {
     "name": "stdout",
     "output_type": "stream",
     "text": [
      "Accuracy: 0.8016\n"
     ]
    },
    {
     "data": {
      "text/plain": [
       "<Figure size 800x600 with 2 Axes>"
      ],
      "image/png": "[encoded data removed]"
     },
     "metadata": {},
     "output_type": "display_data"
    }
   ],
   "execution_count": 193
  },
  {
   "metadata": {
    "ExecuteTime": {
     "end_time": "2024-04-27T21:02:17.800652Z",
     "start_time": "2024-04-27T21:02:17.000859Z"
    }
   },
   "cell_type": "code",
   "source": [
    "print(classification_report(y_test_tensor, predicted_classes,digits=4))\n",
    "\n",
    "precision = precision_score(y_test_tensor, predicted_classes.numpy(), average='macro')\n",
    "recall = recall_score(y_test_tensor, predicted_classes.numpy(), average='macro')\n",
    "f1 = f1_score(y_test_tensor, predicted_classes.numpy(), average='macro')\n",
    "\n",
    "print(f\"Accuracy: {accuracy}\\nPrecision: {precision}\\nRecall: {recall}\\nF1 Score: {f1}\")"
   ],
   "id": "9d47f51c05b379c2",
   "outputs": [
    {
     "name": "stdout",
     "output_type": "stream",
     "text": [
      "              precision    recall  f1-score   support\n",
      "\n",
      "           0     0.7900    0.7814    0.7857    295299\n",
      "           1     0.8852    0.8090    0.8454    269724\n",
      "           2     0.7255    0.8214    0.7705    199668\n",
      "\n",
      "    accuracy                         0.8016    764691\n",
      "   macro avg     0.8002    0.8040    0.8005    764691\n",
      "weighted avg     0.8067    0.8016    0.8028    764691\n",
      "\n",
      "Accuracy: 0.80161398525679\n",
      "Precision: 0.8002284986527028\n",
      "Recall: 0.8039688897681047\n",
      "F1 Score: 0.800528993327438\n"
     ]
    }
   ],
   "execution_count": 195
  },
  {
   "metadata": {
    "ExecuteTime": {
     "end_time": "2024-04-26T16:08:54.969730Z",
     "start_time": "2024-04-26T16:08:54.225587Z"
    }
   },
   "cell_type": "code",
   "source": [
    "df_index_test = df_index[train_size:]\n",
    "test_timestamps = df_index_test[sequence_length:]\n",
    "avg_price = df['avg_price'].values[train_size + sequence_length:]\n",
    "df_result = pd.DataFrame({\n",
    "    'Actual': y_test_tensor.numpy(),\n",
    "    'Forecast': predicted_classes.numpy(),\n",
    "    'avg_price': avg_price\n",
    "}, index=test_timestamps)\n",
    "\n",
    "df_result.to_csv('test_predictions_comparison.csv')"
   ],
   "id": "ac9a51a6c60735f5",
   "outputs": [],
   "execution_count": 12
  },
  {
   "metadata": {},
   "cell_type": "code",
   "outputs": [],
   "execution_count": null,
   "source": "",
   "id": "a2190d18a2a3965f"
  }
 ],
 "metadata": {
  "kernelspec": {
   "display_name": "Python 3",
   "language": "python",
   "name": "python3"
  },
  "language_info": {
   "codemirror_mode": {
    "name": "ipython",
    "version": 2
   },
   "file_extension": ".py",
   "mimetype": "text/x-python",
   "name": "python",
   "nbconvert_exporter": "python",
   "pygments_lexer": "ipython2",
   "version": "2.7.6"
  }
 },
 "nbformat": 4,
 "nbformat_minor": 5
}
